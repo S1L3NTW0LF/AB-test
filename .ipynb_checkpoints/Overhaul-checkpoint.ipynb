{
 "cells": [
  {
   "cell_type": "markdown",
   "id": "228b4f06",
   "metadata": {},
   "source": [
    "# Analyzing A/B Test for e-commerce site"
   ]
  },
  {
   "cell_type": "code",
   "execution_count": 1,
   "id": "2cc49c53",
   "metadata": {},
   "outputs": [],
   "source": [
    "import pandas as pd \n",
    "import numpy as np \n",
    "import random \n",
    "import matplotlib.pyplot as plt"
   ]
  },
  {
   "cell_type": "markdown",
   "id": "7e6e8278",
   "metadata": {},
   "source": [
    "## Premise\n",
    "An e-commerce business needs to see if a new website they designed is better at getting customers to buy their product. If a customer bought product a 1 is marked under the `converted` column if not 0.\n",
    "\n",
    "#### Background\n",
    "An A/B test is a test to determine statistical significance meaning the result being tested for is unlikely to have happened by random chance. An A/B test is a pass or a fail depending on the decided Type I error rate or P value. This number is the probability of rejecting the null hypothsis if it is true."
   ]
  },
  {
   "cell_type": "markdown",
   "id": "d6c68741",
   "metadata": {},
   "source": [
    "## Cleaning"
   ]
  },
  {
   "cell_type": "code",
   "execution_count": 29,
   "id": "28aed256",
   "metadata": {},
   "outputs": [],
   "source": [
    "df = pd.read_csv('ab_data.csv')"
   ]
  },
  {
   "cell_type": "code",
   "execution_count": 30,
   "id": "bd1bc501",
   "metadata": {},
   "outputs": [
    {
     "data": {
      "text/html": [
       "<div>\n",
       "<style scoped>\n",
       "    .dataframe tbody tr th:only-of-type {\n",
       "        vertical-align: middle;\n",
       "    }\n",
       "\n",
       "    .dataframe tbody tr th {\n",
       "        vertical-align: top;\n",
       "    }\n",
       "\n",
       "    .dataframe thead th {\n",
       "        text-align: right;\n",
       "    }\n",
       "</style>\n",
       "<table border=\"1\" class=\"dataframe\">\n",
       "  <thead>\n",
       "    <tr style=\"text-align: right;\">\n",
       "      <th></th>\n",
       "      <th>user_id</th>\n",
       "      <th>timestamp</th>\n",
       "      <th>group</th>\n",
       "      <th>landing_page</th>\n",
       "      <th>converted</th>\n",
       "    </tr>\n",
       "  </thead>\n",
       "  <tbody>\n",
       "    <tr>\n",
       "      <th>0</th>\n",
       "      <td>851104</td>\n",
       "      <td>2017-01-21 22:11:48.556739</td>\n",
       "      <td>control</td>\n",
       "      <td>old_page</td>\n",
       "      <td>0</td>\n",
       "    </tr>\n",
       "    <tr>\n",
       "      <th>1</th>\n",
       "      <td>804228</td>\n",
       "      <td>2017-01-12 08:01:45.159739</td>\n",
       "      <td>control</td>\n",
       "      <td>old_page</td>\n",
       "      <td>0</td>\n",
       "    </tr>\n",
       "    <tr>\n",
       "      <th>2</th>\n",
       "      <td>661590</td>\n",
       "      <td>2017-01-11 16:55:06.154213</td>\n",
       "      <td>treatment</td>\n",
       "      <td>new_page</td>\n",
       "      <td>0</td>\n",
       "    </tr>\n",
       "    <tr>\n",
       "      <th>3</th>\n",
       "      <td>853541</td>\n",
       "      <td>2017-01-08 18:28:03.143765</td>\n",
       "      <td>treatment</td>\n",
       "      <td>new_page</td>\n",
       "      <td>0</td>\n",
       "    </tr>\n",
       "    <tr>\n",
       "      <th>4</th>\n",
       "      <td>864975</td>\n",
       "      <td>2017-01-21 01:52:26.210827</td>\n",
       "      <td>control</td>\n",
       "      <td>old_page</td>\n",
       "      <td>1</td>\n",
       "    </tr>\n",
       "  </tbody>\n",
       "</table>\n",
       "</div>"
      ],
      "text/plain": [
       "   user_id                   timestamp      group landing_page  converted\n",
       "0   851104  2017-01-21 22:11:48.556739    control     old_page          0\n",
       "1   804228  2017-01-12 08:01:45.159739    control     old_page          0\n",
       "2   661590  2017-01-11 16:55:06.154213  treatment     new_page          0\n",
       "3   853541  2017-01-08 18:28:03.143765  treatment     new_page          0\n",
       "4   864975  2017-01-21 01:52:26.210827    control     old_page          1"
      ]
     },
     "execution_count": 30,
     "metadata": {},
     "output_type": "execute_result"
    }
   ],
   "source": [
    "df.head()"
   ]
  },
  {
   "cell_type": "code",
   "execution_count": 31,
   "id": "34ba8770",
   "metadata": {},
   "outputs": [
    {
     "data": {
      "text/plain": [
       "(294478, 5)"
      ]
     },
     "execution_count": 31,
     "metadata": {},
     "output_type": "execute_result"
    }
   ],
   "source": [
    "df.shape"
   ]
  },
  {
   "cell_type": "code",
   "execution_count": 32,
   "id": "40f8e751",
   "metadata": {},
   "outputs": [
    {
     "data": {
      "text/plain": [
       "3893"
      ]
     },
     "execution_count": 32,
     "metadata": {},
     "output_type": "execute_result"
    }
   ],
   "source": [
    "# control should match with old_page\n",
    "# treatment should match with new_page\n",
    "\n",
    "# number of mismatches between control group and landing_page\n",
    "df.user_id[((df['group'] == 'control') & (df['landing_page'] != 'old_page')) | ((df['group'] == 'treatment') & (df['landing_page'] != 'new_page'))].count()"
   ]
  },
  {
   "cell_type": "code",
   "execution_count": 33,
   "id": "3961c0b7",
   "metadata": {},
   "outputs": [],
   "source": [
    "# Removes any rows where there is a mismatch between group and landing_page\n",
    "df2 = df[((df['group'] == 'control') & (df['landing_page'] == 'old_page')) | ((df['group'] == 'treatment') & (df['landing_page'] == 'new_page'))]"
   ]
  },
  {
   "cell_type": "code",
   "execution_count": 47,
   "id": "12bc8c30",
   "metadata": {},
   "outputs": [
    {
     "data": {
      "text/plain": [
       "True"
      ]
     },
     "execution_count": 47,
     "metadata": {},
     "output_type": "execute_result"
    }
   ],
   "source": [
    "# Checks for duplicate user_ids (user_ids are supposed to be unique)\n",
    "df2.user_id.duplicated().any()"
   ]
  },
  {
   "cell_type": "code",
   "execution_count": 49,
   "id": "85f93ff2",
   "metadata": {},
   "outputs": [
    {
     "data": {
      "text/html": [
       "<div>\n",
       "<style scoped>\n",
       "    .dataframe tbody tr th:only-of-type {\n",
       "        vertical-align: middle;\n",
       "    }\n",
       "\n",
       "    .dataframe tbody tr th {\n",
       "        vertical-align: top;\n",
       "    }\n",
       "\n",
       "    .dataframe thead th {\n",
       "        text-align: right;\n",
       "    }\n",
       "</style>\n",
       "<table border=\"1\" class=\"dataframe\">\n",
       "  <thead>\n",
       "    <tr style=\"text-align: right;\">\n",
       "      <th></th>\n",
       "      <th>user_id</th>\n",
       "      <th>timestamp</th>\n",
       "      <th>group</th>\n",
       "      <th>landing_page</th>\n",
       "      <th>converted</th>\n",
       "    </tr>\n",
       "  </thead>\n",
       "  <tbody>\n",
       "    <tr>\n",
       "      <th>2893</th>\n",
       "      <td>773192</td>\n",
       "      <td>2017-01-14 02:55:59.590927</td>\n",
       "      <td>treatment</td>\n",
       "      <td>new_page</td>\n",
       "      <td>0</td>\n",
       "    </tr>\n",
       "  </tbody>\n",
       "</table>\n",
       "</div>"
      ],
      "text/plain": [
       "      user_id                   timestamp      group landing_page  converted\n",
       "2893   773192  2017-01-14 02:55:59.590927  treatment     new_page          0"
      ]
     },
     "execution_count": 49,
     "metadata": {},
     "output_type": "execute_result"
    }
   ],
   "source": [
    "# Identifies duplicate\n",
    "df2[df2.user_id.duplicated()]"
   ]
  },
  {
   "cell_type": "code",
   "execution_count": 54,
   "id": "b9264944",
   "metadata": {},
   "outputs": [
    {
     "data": {
      "text/html": [
       "<div>\n",
       "<style scoped>\n",
       "    .dataframe tbody tr th:only-of-type {\n",
       "        vertical-align: middle;\n",
       "    }\n",
       "\n",
       "    .dataframe tbody tr th {\n",
       "        vertical-align: top;\n",
       "    }\n",
       "\n",
       "    .dataframe thead th {\n",
       "        text-align: right;\n",
       "    }\n",
       "</style>\n",
       "<table border=\"1\" class=\"dataframe\">\n",
       "  <thead>\n",
       "    <tr style=\"text-align: right;\">\n",
       "      <th></th>\n",
       "      <th>user_id</th>\n",
       "      <th>timestamp</th>\n",
       "      <th>group</th>\n",
       "      <th>landing_page</th>\n",
       "      <th>converted</th>\n",
       "    </tr>\n",
       "  </thead>\n",
       "  <tbody>\n",
       "    <tr>\n",
       "      <th>1899</th>\n",
       "      <td>773192</td>\n",
       "      <td>2017-01-09 05:37:58.781806</td>\n",
       "      <td>treatment</td>\n",
       "      <td>new_page</td>\n",
       "      <td>0</td>\n",
       "    </tr>\n",
       "    <tr>\n",
       "      <th>2893</th>\n",
       "      <td>773192</td>\n",
       "      <td>2017-01-14 02:55:59.590927</td>\n",
       "      <td>treatment</td>\n",
       "      <td>new_page</td>\n",
       "      <td>0</td>\n",
       "    </tr>\n",
       "  </tbody>\n",
       "</table>\n",
       "</div>"
      ],
      "text/plain": [
       "      user_id                   timestamp      group landing_page  converted\n",
       "1899   773192  2017-01-09 05:37:58.781806  treatment     new_page          0\n",
       "2893   773192  2017-01-14 02:55:59.590927  treatment     new_page          0"
      ]
     },
     "execution_count": 54,
     "metadata": {},
     "output_type": "execute_result"
    }
   ],
   "source": [
    "df2[df2.user_id == 773192]"
   ]
  },
  {
   "cell_type": "code",
   "execution_count": 55,
   "id": "1f21f0b7",
   "metadata": {},
   "outputs": [],
   "source": [
    "df2 = df2.drop(2893)"
   ]
  },
  {
   "cell_type": "code",
   "execution_count": 58,
   "id": "1dd8bc79",
   "metadata": {},
   "outputs": [
    {
     "data": {
      "text/plain": [
       "False"
      ]
     },
     "execution_count": 58,
     "metadata": {},
     "output_type": "execute_result"
    }
   ],
   "source": [
    "# checks to see if there are any duplicates left\n",
    "df2.user_id.duplicated().any()"
   ]
  },
  {
   "cell_type": "markdown",
   "id": "af44b51f",
   "metadata": {},
   "source": [
    "## A/B Test Process"
   ]
  },
  {
   "cell_type": "markdown",
   "id": "e27cc168",
   "metadata": {},
   "source": [
    "The null hypothesis for this test is that there is no difference between the two websites or that the new website is worse. The alternative hypothesis is that the new website is better than the old website. The P value is **0.05** for this test.\n",
    "\n",
    "### **$p_{new}$** <= **$p_{old}$**  \n",
    "### **$p_{new}$** > **$p_{old}$**"
   ]
  },
  {
   "cell_type": "code",
   "execution_count": 67,
   "id": "3377a383",
   "metadata": {},
   "outputs": [
    {
     "data": {
      "text/plain": [
       "0.11880806551510564"
      ]
     },
     "execution_count": 67,
     "metadata": {},
     "output_type": "execute_result"
    }
   ],
   "source": [
    "# treatment group conversion rate\n",
    "treatment_conversion = df2.converted[df2['group'] == 'treatment'].mean()\n",
    "treatment_conversion"
   ]
  },
  {
   "cell_type": "code",
   "execution_count": 68,
   "id": "9162ad03",
   "metadata": {},
   "outputs": [
    {
     "data": {
      "text/plain": [
       "0.1203863045004612"
      ]
     },
     "execution_count": 68,
     "metadata": {},
     "output_type": "execute_result"
    }
   ],
   "source": [
    "# control group conversion rate\n",
    "control_conversion = df2.converted[df2['group'] == 'control'].mean()\n",
    "control_conversion"
   ]
  },
  {
   "cell_type": "code",
   "execution_count": 69,
   "id": "6f669828",
   "metadata": {},
   "outputs": [
    {
     "data": {
      "text/plain": [
       "145310"
      ]
     },
     "execution_count": 69,
     "metadata": {},
     "output_type": "execute_result"
    }
   ],
   "source": [
    "# number of individuals in treatment group\n",
    "treatment_count = df2.user_id[df2['group'] == 'treatment'].count()\n",
    "treatment_count"
   ]
  },
  {
   "cell_type": "code",
   "execution_count": 71,
   "id": "9eb05054",
   "metadata": {},
   "outputs": [
    {
     "data": {
      "text/plain": [
       "145274"
      ]
     },
     "execution_count": 71,
     "metadata": {},
     "output_type": "execute_result"
    }
   ],
   "source": [
    "# number of individuals in control group\n",
    "control_count = df2.user_id[df2['group'] == 'control'].count()\n",
    "control_count"
   ]
  },
  {
   "cell_type": "markdown",
   "id": "7830f77c",
   "metadata": {},
   "source": [
    "### Bootstrapping data based on null hypothesis\n",
    "Under the null hypothesis it is going to be assumed that there was no difference between the two websites so that we can see how likely it is for the results from this dataset to have happen by chance."
   ]
  },
  {
   "cell_type": "code",
   "execution_count": 76,
   "id": "2b73b368",
   "metadata": {},
   "outputs": [],
   "source": [
    "treatment_boot = np.array(df2.converted.sample(treatment_count, replace = True))"
   ]
  },
  {
   "cell_type": "code",
   "execution_count": 77,
   "id": "3e319e63",
   "metadata": {},
   "outputs": [],
   "source": [
    "control_boot = np.array(df2.converted.sample(control_count, replace = True))"
   ]
  },
  {
   "cell_type": "code",
   "execution_count": 78,
   "id": "6d233543",
   "metadata": {},
   "outputs": [],
   "source": [
    "difference = treatment_boot.mean() - control_boot.mean()"
   ]
  },
  {
   "cell_type": "code",
   "execution_count": null,
   "id": "fdd5bb1b",
   "metadata": {},
   "outputs": [],
   "source": [
    "# process is repeated 10,000 times\n",
    "probability_diffs = []\n",
    "\n",
    "for i in range(10000): \n",
    "    treatment_boot = np.array(df2.converted.sample(treatment_count, replace = True))\n",
    "    control_boot = np.array(df2.converted.sample(control_count, replace = True))\n",
    "    difference = treatment_boot.mean() - control_boot.mean()\n",
    "    probability_diffs.append(difference)\n",
    "\n",
    "probability_diffs = np.array(probability_diffs)"
   ]
  },
  {
   "cell_type": "code",
   "execution_count": 80,
   "id": "f216c2e3",
   "metadata": {},
   "outputs": [],
   "source": [
    "# conversion difference from actual dataset\n",
    "actual_diff = treatment_conversion - control_conversion"
   ]
  },
  {
   "cell_type": "code",
   "execution_count": 83,
   "id": "c09054f0",
   "metadata": {},
   "outputs": [
    {
     "data": {
      "image/png": "[encoded data removed]",
      "text/plain": [
       "<Figure size 640x480 with 1 Axes>"
      ]
     },
     "metadata": {},
     "output_type": "display_data"
    }
   ],
   "source": [
    "plt.hist(probability_diffs, bins=100)\n",
    "plt.axvline(actual_diff, c='r');"
   ]
  },
  {
   "cell_type": "markdown",
   "id": "75742aa4",
   "metadata": {},
   "source": [
    "From the histogram you can see that the results from the actual difference of the original dataset isn't even close to approaching the P value to reject the null hypothesis. Meaning that the null hypothesis can not be rejected. (the new website is not better than the old website)"
   ]
  },
  {
   "cell_type": "code",
   "execution_count": 87,
   "id": "2d8b2f41",
   "metadata": {},
   "outputs": [],
   "source": [
    "p_value = probability_diffs[probability_diffs > actual_diff].size / probability_diffs.size"
   ]
  },
  {
   "cell_type": "code",
   "execution_count": 88,
   "id": "e9cef64d",
   "metadata": {},
   "outputs": [
    {
     "data": {
      "text/plain": [
       "0.9021"
      ]
     },
     "execution_count": 88,
     "metadata": {},
     "output_type": "execute_result"
    }
   ],
   "source": [
    "p_value"
   ]
  },
  {
   "cell_type": "markdown",
   "id": "22edaff9",
   "metadata": {},
   "source": [
    "Then if you look at the p value vaculated and compare it to the decided upon p value (0.05) you can see that they are no where close to each other."
   ]
  },
  {
   "cell_type": "markdown",
   "id": "29558c8f",
   "metadata": {},
   "source": [
    "## AB test using Built in Method"
   ]
  },
  {
   "cell_type": "code",
   "execution_count": null,
   "id": "bbf411a3",
   "metadata": {},
   "outputs": [],
   "source": [
    "import statsmodels.api as sm\n",
    "\n",
    "# number of conversions with the old_page\n",
    "convert_old = df2.converted[(df2['group'] == 'control') & (df2['converted'] == 1)].count()\n",
    "\n",
    "# number of conversions with the new_page\n",
    "convert_new = df2.converted[(df2['group'] == 'treatment')  & (df2['converted'] == 1)].count()\n",
    "\n",
    "# number of individuals who were shown the old_page\n",
    "n_old = df2.converted[df2['group'] == 'control'].count()\n",
    "\n",
    "# number of individuals who received new_page\n",
    "n_new = df2.converted[df2['group'] == 'treatment'].count()\n",
    "\n",
    "count = np.array([convert_new, convert_old])\n",
    "nob = np.array([n_new, n_old])\n",
    "\n",
    "z_score, p_value = sm.stats.proportions_ztest(count, nob, alternative='larger')"
   ]
  },
  {
   "cell_type": "code",
   "execution_count": 92,
   "id": "7a39fbbd",
   "metadata": {},
   "outputs": [
    {
     "name": "stdout",
     "output_type": "stream",
     "text": [
      "Z score: -1.3109241984234394 \n",
      "P value: 0.9050583127590245\n"
     ]
    }
   ],
   "source": [
    "print('Z score:', z_score,'\\nP value:', p_value)"
   ]
  },
  {
   "cell_type": "markdown",
   "id": "bab270d8",
   "metadata": {},
   "source": [
    "The z-score is just the number of standard deviations away from the mean. And as you can see you get a similar p value as above."
   ]
  },
  {
   "cell_type": "markdown",
   "id": "5b4fc06e",
   "metadata": {},
   "source": [
    "## Conclusion"
   ]
  },
  {
   "cell_type": "markdown",
   "id": "b42d0865",
   "metadata": {},
   "source": [
    "Based on the A/B test the e-commerce site should definitely not use the \n",
    "new website"
   ]
  }
 ],
 "metadata": {
  "kernelspec": {
   "display_name": "Python 3 (ipykernel)",
   "language": "python",
   "name": "python3"
  },
  "language_info": {
   "codemirror_mode": {
    "name": "ipython",
    "version": 3
   },
   "file_extension": ".py",
   "mimetype": "text/x-python",
   "name": "python",
   "nbconvert_exporter": "python",
   "pygments_lexer": "ipython3",
   "version": "3.9.13"
  }
 },
 "nbformat": 4,
 "nbformat_minor": 5
}
